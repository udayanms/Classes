{
 "cells": [
  {
   "cell_type": "code",
   "execution_count": 9,
   "id": "1b3dc376-e003-4e47-85bc-cf9f2ac37d42",
   "metadata": {},
   "outputs": [
    {
     "name": "stdout",
     "output_type": "stream",
     "text": [
      "\u001b[33mWARNING: The directory '/home/jovyan/.cache/pip' or its parent directory is not owned or is not writable by the current user. The cache has been disabled. Check the permissions and owner of that directory. If executing pip with sudo, you should use sudo's -H flag.\u001b[0m\u001b[33m\n",
      "\u001b[0mRequirement already satisfied: pyminizip in /opt/conda/lib/python3.11/site-packages (0.2.6)\n",
      "\u001b[33mWARNING: Running pip as the 'root' user can result in broken permissions and conflicting behaviour with the system package manager. It is recommended to use a virtual environment instead: https://pip.pypa.io/warnings/venv\u001b[0m\u001b[33m\n",
      "\u001b[0m"
     ]
    }
   ],
   "source": [
    "!pip install pyminizip\n",
    "import itertools\n",
    "import string\n",
    "import pyminizip"
   ]
  },
  {
   "cell_type": "code",
   "execution_count": 15,
   "id": "3077c976-d165-4bac-883c-07c925836e1f",
   "metadata": {},
   "outputs": [],
   "source": [
    "def try_passwords(zip_file_path, extract_to_folder):\n",
    "    \"\"\"\n",
    "    Tries to unzip a ZIP file using a brute-force approach to guess the password.\n",
    "\n",
    "    Args:\n",
    "    zip_file_path: Path to the ZIP file.\n",
    "    extract_to_folder: Folder where contents will be extracted.\n",
    "    \"\"\"\n",
    "    chars = string.ascii_uppercase + string.ascii_lowercase + '@#'\n",
    "    for guess in itertools.product(chars, repeat=5):\n",
    "        password = ''.join(guess)\n",
    "        try:\n",
    "            # Attempt to unzip with the guessed password\n",
    "            #pyminizip.compress(\"/srcfile/path.txt\", \"file_path_prefix\", \"/distfile/path.zip\", \"password\", int(compress_level))\n",
    "\n",
    "            pyminizip.uncompress(zip_file_path, extract_to_folder, password, 0)\n",
    "            print(f\"Success! The password is: {password}\")\n",
    "            return\n",
    "        except RuntimeError:\n",
    "            # This exception occurs when the password is incorrect\n",
    "            continue\n",
    "    print(\"Failed to find the password.\")"
   ]
  },
  {
   "cell_type": "code",
   "execution_count": 17,
   "id": "295ab8b7-bba0-4e97-8b02-8f3777784a08",
   "metadata": {},
   "outputs": [
    {
     "name": "stdout",
     "output_type": "stream",
     "text": [
      "ZIP file '/tf/Ethical/example.zip' created successfully.\n"
     ]
    }
   ],
   "source": [
    "import os\n",
    "import pyminizip\n",
    "\n",
    "def create_password_protected_zip_from_folder(output_zip_file, password, folder_path, compression_level=5):\n",
    "    \"\"\"\n",
    "    Creates a password-protected ZIP file containing all files from a specified folder.\n",
    "\n",
    "    Args:\n",
    "    output_zip_file: The name of the output ZIP file.\n",
    "    password: Password for the ZIP file.\n",
    "    folder_path: Path of the folder containing files to be added to the ZIP file.\n",
    "    compression_level: ZIP compression level (1-9).\n",
    "    \"\"\"\n",
    "    input_files = []\n",
    "    for root, _, files in os.walk(folder_path):\n",
    "        for file in files:\n",
    "            file_path = os.path.join(root, file)\n",
    "            input_files.append(file_path)\n",
    "\n",
    "    if input_files:\n",
    "        pyminizip.compress_multiple(input_files, [], output_zip_file, password, compression_level)\n",
    "        print(f\"ZIP file '{output_zip_file}' created successfully.\")\n",
    "    else:\n",
    "        print(\"No files found in the specified folder.\")\n",
    "\n",
    "# Example usage\n",
    "output_zip_file = '/tf/Ethical/example.zip'  # The name of the output ZIP file\n",
    "password = 'de'  # Password for the ZIP file\n",
    "folder_path = '/tf/Ethical/'  # Path of the folder to zip\n",
    "\n",
    "create_password_protected_zip_from_folder(output_zip_file, password, folder_path)\n"
   ]
  },
  {
   "cell_type": "code",
   "execution_count": 16,
   "id": "0e21ac4c-5d37-4a8b-a3ca-41c6ece301be",
   "metadata": {},
   "outputs": [
    {
     "ename": "Exception",
     "evalue": "error -3 with zipfile in do_extract_currentfile",
     "output_type": "error",
     "traceback": [
      "\u001b[0;31m---------------------------------------------------------------------------\u001b[0m",
      "\u001b[0;31mException\u001b[0m                                 Traceback (most recent call last)",
      "Cell \u001b[0;32mIn[16], line 5\u001b[0m\n\u001b[1;32m      2\u001b[0m zip_file_path \u001b[38;5;241m=\u001b[39m \u001b[38;5;124m'\u001b[39m\u001b[38;5;124m/tf/Ethical/example.zip\u001b[39m\u001b[38;5;124m'\u001b[39m  \u001b[38;5;66;03m# Replace with your ZIP file path\u001b[39;00m\n\u001b[1;32m      3\u001b[0m extract_to_folder \u001b[38;5;241m=\u001b[39m \u001b[38;5;124m'\u001b[39m\u001b[38;5;124m/tf/Ethical/Extract\u001b[39m\u001b[38;5;124m'\u001b[39m  \u001b[38;5;66;03m# Replace with your extraction folder path\u001b[39;00m\n\u001b[0;32m----> 5\u001b[0m \u001b[43mtry_passwords\u001b[49m\u001b[43m(\u001b[49m\u001b[43mzip_file_path\u001b[49m\u001b[43m,\u001b[49m\u001b[43m \u001b[49m\u001b[43mextract_to_folder\u001b[49m\u001b[43m)\u001b[49m\n",
      "Cell \u001b[0;32mIn[15], line 16\u001b[0m, in \u001b[0;36mtry_passwords\u001b[0;34m(zip_file_path, extract_to_folder)\u001b[0m\n\u001b[1;32m     11\u001b[0m password \u001b[38;5;241m=\u001b[39m \u001b[38;5;124m'\u001b[39m\u001b[38;5;124m'\u001b[39m\u001b[38;5;241m.\u001b[39mjoin(guess)\n\u001b[1;32m     12\u001b[0m \u001b[38;5;28;01mtry\u001b[39;00m:\n\u001b[1;32m     13\u001b[0m     \u001b[38;5;66;03m# Attempt to unzip with the guessed password\u001b[39;00m\n\u001b[1;32m     14\u001b[0m     \u001b[38;5;66;03m#pyminizip.compress(\"/srcfile/path.txt\", \"file_path_prefix\", \"/distfile/path.zip\", \"password\", int(compress_level))\u001b[39;00m\n\u001b[0;32m---> 16\u001b[0m     \u001b[43mpyminizip\u001b[49m\u001b[38;5;241;43m.\u001b[39;49m\u001b[43muncompress\u001b[49m\u001b[43m(\u001b[49m\u001b[43mzip_file_path\u001b[49m\u001b[43m,\u001b[49m\u001b[43m \u001b[49m\u001b[43mextract_to_folder\u001b[49m\u001b[43m,\u001b[49m\u001b[43m \u001b[49m\u001b[43mpassword\u001b[49m\u001b[43m,\u001b[49m\u001b[43m \u001b[49m\u001b[38;5;241;43m0\u001b[39;49m\u001b[43m)\u001b[49m\n\u001b[1;32m     17\u001b[0m     \u001b[38;5;28mprint\u001b[39m(\u001b[38;5;124mf\u001b[39m\u001b[38;5;124m\"\u001b[39m\u001b[38;5;124mSuccess! The password is: \u001b[39m\u001b[38;5;132;01m{\u001b[39;00mpassword\u001b[38;5;132;01m}\u001b[39;00m\u001b[38;5;124m\"\u001b[39m)\n\u001b[1;32m     18\u001b[0m     \u001b[38;5;28;01mreturn\u001b[39;00m\n",
      "\u001b[0;31mException\u001b[0m: error -3 with zipfile in do_extract_currentfile"
     ]
    }
   ],
   "source": [
    "# Example usage\n",
    "zip_file_path = '/tf/Ethical/example.zip'  # Replace with your ZIP file path\n",
    "extract_to_folder = '/tf/Ethical/Extract'  # Replace with your extraction folder path\n",
    "\n",
    "try_passwords(zip_file_path, extract_to_folder)"
   ]
  },
  {
   "cell_type": "code",
   "execution_count": 12,
   "id": "13d8cf08-05b5-47c5-adc2-d2d6689588f7",
   "metadata": {
    "scrolled": true
   },
   "outputs": [
    {
     "ename": "error",
     "evalue": "Error -3 while decompressing data: invalid block type",
     "output_type": "error",
     "traceback": [
      "\u001b[0;31m---------------------------------------------------------------------------\u001b[0m",
      "\u001b[0;31merror\u001b[0m                                     Traceback (most recent call last)",
      "Cell \u001b[0;32mIn[12], line 29\u001b[0m\n\u001b[1;32m     26\u001b[0m zip_file_path \u001b[38;5;241m=\u001b[39m \u001b[38;5;124m'\u001b[39m\u001b[38;5;124m/tf/Ethical/example.zip\u001b[39m\u001b[38;5;124m'\u001b[39m  \u001b[38;5;66;03m# Replace with your ZIP file path\u001b[39;00m\n\u001b[1;32m     27\u001b[0m extract_to_folder \u001b[38;5;241m=\u001b[39m \u001b[38;5;124m'\u001b[39m\u001b[38;5;124m/tf/Ethical/Extract\u001b[39m\u001b[38;5;124m'\u001b[39m  \u001b[38;5;66;03m# Replace with your extraction folder path\u001b[39;00m\n\u001b[0;32m---> 29\u001b[0m \u001b[43mtry_passwords\u001b[49m\u001b[43m(\u001b[49m\u001b[43mzip_file_path\u001b[49m\u001b[43m,\u001b[49m\u001b[43m \u001b[49m\u001b[43mextract_to_folder\u001b[49m\u001b[43m)\u001b[49m\n",
      "Cell \u001b[0;32mIn[12], line 18\u001b[0m, in \u001b[0;36mtry_passwords\u001b[0;34m(zip_file_path, extract_to_folder)\u001b[0m\n\u001b[1;32m     16\u001b[0m \u001b[38;5;28;01mtry\u001b[39;00m:\n\u001b[1;32m     17\u001b[0m     \u001b[38;5;28;01mwith\u001b[39;00m zipfile\u001b[38;5;241m.\u001b[39mZipFile(zip_file_path, \u001b[38;5;124m'\u001b[39m\u001b[38;5;124mr\u001b[39m\u001b[38;5;124m'\u001b[39m) \u001b[38;5;28;01mas\u001b[39;00m zip_ref:\n\u001b[0;32m---> 18\u001b[0m         \u001b[43mzip_ref\u001b[49m\u001b[38;5;241;43m.\u001b[39;49m\u001b[43mextractall\u001b[49m\u001b[43m(\u001b[49m\u001b[43mpath\u001b[49m\u001b[38;5;241;43m=\u001b[39;49m\u001b[43mextract_to_folder\u001b[49m\u001b[43m,\u001b[49m\u001b[43m \u001b[49m\u001b[43mpwd\u001b[49m\u001b[38;5;241;43m=\u001b[39;49m\u001b[38;5;28;43mbytes\u001b[39;49m\u001b[43m(\u001b[49m\u001b[43mpassword\u001b[49m\u001b[43m,\u001b[49m\u001b[43m \u001b[49m\u001b[38;5;124;43m'\u001b[39;49m\u001b[38;5;124;43mutf-8\u001b[39;49m\u001b[38;5;124;43m'\u001b[39;49m\u001b[43m)\u001b[49m\u001b[43m)\u001b[49m\n\u001b[1;32m     19\u001b[0m         \u001b[38;5;28mprint\u001b[39m(\u001b[38;5;124mf\u001b[39m\u001b[38;5;124m\"\u001b[39m\u001b[38;5;124mSuccess! The password is: \u001b[39m\u001b[38;5;132;01m{\u001b[39;00mpassword\u001b[38;5;132;01m}\u001b[39;00m\u001b[38;5;124m\"\u001b[39m)\n\u001b[1;32m     20\u001b[0m         \u001b[38;5;28;01mreturn\u001b[39;00m\n",
      "File \u001b[0;32m/opt/conda/lib/python3.11/zipfile.py:1681\u001b[0m, in \u001b[0;36mZipFile.extractall\u001b[0;34m(self, path, members, pwd)\u001b[0m\n\u001b[1;32m   1678\u001b[0m     path \u001b[38;5;241m=\u001b[39m os\u001b[38;5;241m.\u001b[39mfspath(path)\n\u001b[1;32m   1680\u001b[0m \u001b[38;5;28;01mfor\u001b[39;00m zipinfo \u001b[38;5;129;01min\u001b[39;00m members:\n\u001b[0;32m-> 1681\u001b[0m     \u001b[38;5;28;43mself\u001b[39;49m\u001b[38;5;241;43m.\u001b[39;49m\u001b[43m_extract_member\u001b[49m\u001b[43m(\u001b[49m\u001b[43mzipinfo\u001b[49m\u001b[43m,\u001b[49m\u001b[43m \u001b[49m\u001b[43mpath\u001b[49m\u001b[43m,\u001b[49m\u001b[43m \u001b[49m\u001b[43mpwd\u001b[49m\u001b[43m)\u001b[49m\n",
      "File \u001b[0;32m/opt/conda/lib/python3.11/zipfile.py:1736\u001b[0m, in \u001b[0;36mZipFile._extract_member\u001b[0;34m(self, member, targetpath, pwd)\u001b[0m\n\u001b[1;32m   1732\u001b[0m     \u001b[38;5;28;01mreturn\u001b[39;00m targetpath\n\u001b[1;32m   1734\u001b[0m \u001b[38;5;28;01mwith\u001b[39;00m \u001b[38;5;28mself\u001b[39m\u001b[38;5;241m.\u001b[39mopen(member, pwd\u001b[38;5;241m=\u001b[39mpwd) \u001b[38;5;28;01mas\u001b[39;00m source, \\\n\u001b[1;32m   1735\u001b[0m      \u001b[38;5;28mopen\u001b[39m(targetpath, \u001b[38;5;124m\"\u001b[39m\u001b[38;5;124mwb\u001b[39m\u001b[38;5;124m\"\u001b[39m) \u001b[38;5;28;01mas\u001b[39;00m target:\n\u001b[0;32m-> 1736\u001b[0m     \u001b[43mshutil\u001b[49m\u001b[38;5;241;43m.\u001b[39;49m\u001b[43mcopyfileobj\u001b[49m\u001b[43m(\u001b[49m\u001b[43msource\u001b[49m\u001b[43m,\u001b[49m\u001b[43m \u001b[49m\u001b[43mtarget\u001b[49m\u001b[43m)\u001b[49m\n\u001b[1;32m   1738\u001b[0m \u001b[38;5;28;01mreturn\u001b[39;00m targetpath\n",
      "File \u001b[0;32m/opt/conda/lib/python3.11/shutil.py:197\u001b[0m, in \u001b[0;36mcopyfileobj\u001b[0;34m(fsrc, fdst, length)\u001b[0m\n\u001b[1;32m    195\u001b[0m fdst_write \u001b[38;5;241m=\u001b[39m fdst\u001b[38;5;241m.\u001b[39mwrite\n\u001b[1;32m    196\u001b[0m \u001b[38;5;28;01mwhile\u001b[39;00m \u001b[38;5;28;01mTrue\u001b[39;00m:\n\u001b[0;32m--> 197\u001b[0m     buf \u001b[38;5;241m=\u001b[39m \u001b[43mfsrc_read\u001b[49m\u001b[43m(\u001b[49m\u001b[43mlength\u001b[49m\u001b[43m)\u001b[49m\n\u001b[1;32m    198\u001b[0m     \u001b[38;5;28;01mif\u001b[39;00m \u001b[38;5;129;01mnot\u001b[39;00m buf:\n\u001b[1;32m    199\u001b[0m         \u001b[38;5;28;01mbreak\u001b[39;00m\n",
      "File \u001b[0;32m/opt/conda/lib/python3.11/zipfile.py:955\u001b[0m, in \u001b[0;36mZipExtFile.read\u001b[0;34m(self, n)\u001b[0m\n\u001b[1;32m    953\u001b[0m \u001b[38;5;28mself\u001b[39m\u001b[38;5;241m.\u001b[39m_offset \u001b[38;5;241m=\u001b[39m \u001b[38;5;241m0\u001b[39m\n\u001b[1;32m    954\u001b[0m \u001b[38;5;28;01mwhile\u001b[39;00m n \u001b[38;5;241m>\u001b[39m \u001b[38;5;241m0\u001b[39m \u001b[38;5;129;01mand\u001b[39;00m \u001b[38;5;129;01mnot\u001b[39;00m \u001b[38;5;28mself\u001b[39m\u001b[38;5;241m.\u001b[39m_eof:\n\u001b[0;32m--> 955\u001b[0m     data \u001b[38;5;241m=\u001b[39m \u001b[38;5;28;43mself\u001b[39;49m\u001b[38;5;241;43m.\u001b[39;49m\u001b[43m_read1\u001b[49m\u001b[43m(\u001b[49m\u001b[43mn\u001b[49m\u001b[43m)\u001b[49m\n\u001b[1;32m    956\u001b[0m     \u001b[38;5;28;01mif\u001b[39;00m n \u001b[38;5;241m<\u001b[39m \u001b[38;5;28mlen\u001b[39m(data):\n\u001b[1;32m    957\u001b[0m         \u001b[38;5;28mself\u001b[39m\u001b[38;5;241m.\u001b[39m_readbuffer \u001b[38;5;241m=\u001b[39m data\n",
      "File \u001b[0;32m/opt/conda/lib/python3.11/zipfile.py:1031\u001b[0m, in \u001b[0;36mZipExtFile._read1\u001b[0;34m(self, n)\u001b[0m\n\u001b[1;32m   1029\u001b[0m \u001b[38;5;28;01melif\u001b[39;00m \u001b[38;5;28mself\u001b[39m\u001b[38;5;241m.\u001b[39m_compress_type \u001b[38;5;241m==\u001b[39m ZIP_DEFLATED:\n\u001b[1;32m   1030\u001b[0m     n \u001b[38;5;241m=\u001b[39m \u001b[38;5;28mmax\u001b[39m(n, \u001b[38;5;28mself\u001b[39m\u001b[38;5;241m.\u001b[39mMIN_READ_SIZE)\n\u001b[0;32m-> 1031\u001b[0m     data \u001b[38;5;241m=\u001b[39m \u001b[38;5;28;43mself\u001b[39;49m\u001b[38;5;241;43m.\u001b[39;49m\u001b[43m_decompressor\u001b[49m\u001b[38;5;241;43m.\u001b[39;49m\u001b[43mdecompress\u001b[49m\u001b[43m(\u001b[49m\u001b[43mdata\u001b[49m\u001b[43m,\u001b[49m\u001b[43m \u001b[49m\u001b[43mn\u001b[49m\u001b[43m)\u001b[49m\n\u001b[1;32m   1032\u001b[0m     \u001b[38;5;28mself\u001b[39m\u001b[38;5;241m.\u001b[39m_eof \u001b[38;5;241m=\u001b[39m (\u001b[38;5;28mself\u001b[39m\u001b[38;5;241m.\u001b[39m_decompressor\u001b[38;5;241m.\u001b[39meof \u001b[38;5;129;01mor\u001b[39;00m\n\u001b[1;32m   1033\u001b[0m                  \u001b[38;5;28mself\u001b[39m\u001b[38;5;241m.\u001b[39m_compress_left \u001b[38;5;241m<\u001b[39m\u001b[38;5;241m=\u001b[39m \u001b[38;5;241m0\u001b[39m \u001b[38;5;129;01mand\u001b[39;00m\n\u001b[1;32m   1034\u001b[0m                  \u001b[38;5;129;01mnot\u001b[39;00m \u001b[38;5;28mself\u001b[39m\u001b[38;5;241m.\u001b[39m_decompressor\u001b[38;5;241m.\u001b[39munconsumed_tail)\n\u001b[1;32m   1035\u001b[0m     \u001b[38;5;28;01mif\u001b[39;00m \u001b[38;5;28mself\u001b[39m\u001b[38;5;241m.\u001b[39m_eof:\n",
      "\u001b[0;31merror\u001b[0m: Error -3 while decompressing data: invalid block type"
     ]
    }
   ],
   "source": [
    "import itertools\n",
    "import string\n",
    "import zipfile\n",
    "\n",
    "def try_passwords(zip_file_path, extract_to_folder):\n",
    "    \"\"\"\n",
    "    Tries to unzip a ZIP file using a brute-force approach to guess the password.\n",
    "\n",
    "    Args:\n",
    "    zip_file_path: Path to the ZIP file.\n",
    "    extract_to_folder: Folder where contents will be extracted.\n",
    "    \"\"\"\n",
    "    chars = string.ascii_uppercase + string.ascii_lowercase + '@#'\n",
    "    for guess in itertools.product(chars, repeat=5):\n",
    "        password = ''.join(guess)\n",
    "        try:\n",
    "            with zipfile.ZipFile(zip_file_path, 'r') as zip_ref:\n",
    "                zip_ref.extractall(path=extract_to_folder, pwd=bytes(password, 'utf-8'))\n",
    "                print(f\"Success! The password is: {password}\")\n",
    "                return\n",
    "        except (RuntimeError, zipfile.BadZipFile):\n",
    "            continue\n",
    "    print(\"Failed to find the password.\")\n",
    "\n",
    "# Example usage\n",
    "zip_file_path = '/tf/Ethical/example.zip'  # Replace with your ZIP file path\n",
    "extract_to_folder = '/tf/Ethical/Extract'  # Replace with your extraction folder path\n",
    "\n",
    "try_passwords(zip_file_path, extract_to_folder)\n"
   ]
  },
  {
   "cell_type": "code",
   "execution_count": null,
   "id": "c2ea826e-6e0d-4ce9-a066-49cc3cbda7bd",
   "metadata": {},
   "outputs": [],
   "source": [
    "import itertools\n",
    "import string\n",
    "import zipfile\n",
    "\n",
    "def try_passwords(zip_file_path, extract_to_folder):\n",
    "    \"\"\"\n",
    "    Tries to unzip a ZIP file using a brute-force approach to guess the password.\n",
    "\n",
    "    Args:\n",
    "    zip_file_path: Path to the ZIP file.\n",
    "    extract_to_folder: Folder where contents will be extracted.\n",
    "    \"\"\"\n",
    "    chars =  string.ascii_lowercase # + '@#' + string.ascii_uppercase\n",
    "    for guess in itertools.product(chars, repeat=4):\n",
    "        password = ''.join(guess)\n",
    "        try:\n",
    "            #print(password)\n",
    "            with zipfile.ZipFile(zip_file_path, 'r') as zip_ref:\n",
    "                zip_ref.extractall(path=extract_to_folder, pwd=bytes(password, 'utf-8'))\n",
    "                print(f\"Success! The password is: {password}\")\n",
    "                return\n",
    "        except Exception as e:\n",
    "            continue\n",
    "    print(\"Failed to find the password.\")\n",
    "\n",
    "# Example usage\n",
    "zip_file_path = '/tf/Ethical/example.zip'  # Replace with your ZIP file path\n",
    "extract_to_folder = '/tf/Ethical/Extract'  # Replace with your extraction folder path\n",
    "\n",
    "try_passwords(zip_file_path, extract_to_folder)"
   ]
  },
  {
   "cell_type": "code",
   "execution_count": null,
   "id": "8cd9264e-2c8f-4a21-8a6b-e98802950c29",
   "metadata": {},
   "outputs": [],
   "source": []
  }
 ],
 "metadata": {
  "kernelspec": {
   "display_name": "Python 3 (ipykernel)",
   "language": "python",
   "name": "python3"
  },
  "language_info": {
   "codemirror_mode": {
    "name": "ipython",
    "version": 3
   },
   "file_extension": ".py",
   "mimetype": "text/x-python",
   "name": "python",
   "nbconvert_exporter": "python",
   "pygments_lexer": "ipython3",
   "version": "3.11.6"
  }
 },
 "nbformat": 4,
 "nbformat_minor": 5
}
