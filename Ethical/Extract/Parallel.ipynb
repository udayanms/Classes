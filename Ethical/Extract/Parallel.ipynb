{
 "cells": [
  {
   "cell_type": "code",
   "execution_count": 1,
   "id": "4d444db3-b46b-4af4-a4fa-2627f3b43030",
   "metadata": {},
   "outputs": [
    {
     "name": "stdout",
     "output_type": "stream",
     "text": [
      "\u001b[33mWARNING: The directory '/home/jovyan/.cache/pip' or its parent directory is not owned or is not writable by the current user. The cache has been disabled. Check the permissions and owner of that directory. If executing pip with sudo, you should use sudo's -H flag.\u001b[0m\u001b[33m\n",
      "\u001b[0mRequirement already satisfied: pyminizip in /opt/conda/lib/python3.11/site-packages (0.2.6)\n",
      "\u001b[33mWARNING: Running pip as the 'root' user can result in broken permissions and conflicting behaviour with the system package manager. It is recommended to use a virtual environment instead: https://pip.pypa.io/warnings/venv\u001b[0m\u001b[33m\n",
      "\u001b[0m"
     ]
    }
   ],
   "source": [
    "!pip install pyminizip"
   ]
  },
  {
   "cell_type": "code",
   "execution_count": 2,
   "id": "071cb5b8-b2bd-4196-b3da-5cb551055e65",
   "metadata": {},
   "outputs": [],
   "source": [
    "import time\n",
    "\n",
    "def timeit(func):\n",
    "    def wrapper(*args, **kwargs):\n",
    "        start_time = time.time()\n",
    "        result = func(*args, **kwargs)\n",
    "        end_time = time.time()\n",
    "        print(f\"Function '{func.__name__}' executed in {end_time - start_time} seconds.\")\n",
    "        return result\n",
    "    return wrapper"
   ]
  },
  {
   "cell_type": "code",
   "execution_count": 3,
   "id": "5a69cc8c-c32e-4c7d-8287-32b09a956216",
   "metadata": {},
   "outputs": [],
   "source": [
    "import os\n",
    "import pyminizip\n",
    "\n",
    "def create_password_protected_zip_from_folder(output_zip_file, password, folder_path, compression_level=5):\n",
    "    \"\"\"\n",
    "    Creates a password-protected ZIP file containing all files from a specified folder.\n",
    "\n",
    "    Args:\n",
    "    output_zip_file: The name of the output ZIP file.\n",
    "    password: Password for the ZIP file.\n",
    "    folder_path: Path of the folder containing files to be added to the ZIP file.\n",
    "    compression_level: ZIP compression level (1-9).\n",
    "    \"\"\"\n",
    "    input_files = []\n",
    "    for root, _, files in os.walk(folder_path):\n",
    "        for file in files:\n",
    "            file_path = os.path.join(root, file)\n",
    "            input_files.append(file_path)\n",
    "\n",
    "    if input_files:\n",
    "        pyminizip.compress_multiple(input_files, [], output_zip_file, password, compression_level)\n",
    "        print(f\"ZIP file '{output_zip_file}' created successfully.\")\n",
    "    else:\n",
    "        print(\"No files found in the specified folder.\")"
   ]
  },
  {
   "cell_type": "code",
   "execution_count": 4,
   "id": "4c1dd96b-7e5d-4811-82b4-f89c4381a93b",
   "metadata": {},
   "outputs": [],
   "source": [
    "import itertools\n",
    "import string\n",
    "import zipfile\n",
    "import concurrent\n",
    "from concurrent.futures import ThreadPoolExecutor, as_completed\n",
    "\n",
    "def attempt_password(zip_file_path, password, extract_to_folder):\n",
    "    try:\n",
    "        with zipfile.ZipFile(zip_file_path, 'r') as zip_ref:\n",
    "            zip_ref.extractall(path=extract_to_folder, pwd=bytes(password, 'utf-8'))\n",
    "            return True\n",
    "    except RuntimeError:\n",
    "        # This exception is raised for incorrect password\n",
    "        return False\n",
    "    except zipfile.BadZipFile:\n",
    "        # This exception is raised for other zip file related errors\n",
    "        #print(f\"Zip file error with password: {password}\")\n",
    "        return False\n",
    "    except Exception as e:\n",
    "        # General exception to catch any other errors\n",
    "        #print(f\"Unexpected error with password '{password}': {e}\")\n",
    "        return False\n",
    "\n",
    "\"\"\"\n",
    "def attempt_password(zip_file_path, password, extract_to_folder):\n",
    "    try:\n",
    "        with zipfile.ZipFile(zip_file_path, 'r') as zip_ref:\n",
    "            zip_ref.extractall(path=extract_to_folder, pwd=bytes(password, 'utf-8'))\n",
    "            print(f\"Success! The password is: {password}\")\n",
    "            return True\n",
    "    except  (RuntimeError, zipfile.BadZipFile):\n",
    "        return False\n",
    "\"\"\"\n",
    "def generate_passwords(chars, length):\n",
    "    return (''.join(guess) for guess in itertools.product(chars, repeat=length))\n",
    "\n",
    "@timeit\n",
    "def brute_force_zip(zip_file_path, extract_to_folder,password_len,  max_workers=4):\n",
    "    #chars = string.ascii_uppercase + string.ascii_lowercase + '@#'\n",
    "    chars =  string.ascii_lowercase \n",
    "    password_length = password_len  # Adjust as needed\n",
    "\n",
    "    with ThreadPoolExecutor(max_workers=max_workers) as executor:\n",
    "        password_generator = generate_passwords(chars, password_length)\n",
    "        future_to_password = {executor.submit(attempt_password, zip_file_path, password, extract_to_folder): password for password in password_generator}\n",
    "        for future in concurrent.futures.as_completed(future_to_password):\n",
    "            password = future_to_password[future]\n",
    "            if future.result():\n",
    "                print(f\"Found password: {password}\")\n",
    "                return\n",
    "\n",
    "\n"
   ]
  },
  {
   "cell_type": "code",
   "execution_count": 5,
   "id": "7b38b2bb-96ab-4633-99cf-7cabbab76a2b",
   "metadata": {},
   "outputs": [
    {
     "name": "stdout",
     "output_type": "stream",
     "text": [
      "ZIP file '/tf/Ethical/example.zip' created successfully.\n"
     ]
    }
   ],
   "source": [
    "output_zip_file = '/tf/Ethical/example1.zip'  # The name of the output ZIP file\n",
    "password = 'demo1'  # Password for the ZIP file\n",
    "password_len = len(password)\n",
    "folder_path = '/tf/Ethical1/'  # Path of the folder to zip\n",
    "\n",
    "create_password_protected_zip_from_folder(output_zip_file, password, folder_path)"
   ]
  },
  {
   "cell_type": "code",
   "execution_count": 6,
   "id": "89ca8474-daf4-49d3-a13c-6b44aed7b7da",
   "metadata": {},
   "outputs": [
    {
     "name": "stdout",
     "output_type": "stream",
     "text": [
      "Found password: demo\n",
      "Function 'brute_force_zip' executed in 284.06892561912537 seconds.\n"
     ]
    }
   ],
   "source": [
    "# Example usage\n",
    "zip_file_path = '/tf/Ethical/example1.zip'\n",
    "extract_to_folder = '/tf/Ethical/Extract1'\n",
    "\n",
    "brute_force_zip(zip_file_path, extract_to_folder, password_len)"
   ]
  },
  {
   "cell_type": "code",
   "execution_count": null,
   "id": "d42f7c4d-4dc6-424d-9ea9-91e55262553a",
   "metadata": {},
   "outputs": [],
   "source": []
  },
  {
   "cell_type": "code",
   "execution_count": null,
   "id": "1c3a02a8-5fb6-4e8a-bdb4-e85b48a8c591",
   "metadata": {},
   "outputs": [],
   "source": []
  },
  {
   "cell_type": "code",
   "execution_count": null,
   "id": "ff937057-e319-4200-9682-76ae90440911",
   "metadata": {},
   "outputs": [],
   "source": []
  }
 ],
 "metadata": {
  "kernelspec": {
   "display_name": "Python 3 (ipykernel)",
   "language": "python",
   "name": "python3"
  },
  "language_info": {
   "codemirror_mode": {
    "name": "ipython",
    "version": 3
   },
   "file_extension": ".py",
   "mimetype": "text/x-python",
   "name": "python",
   "nbconvert_exporter": "python",
   "pygments_lexer": "ipython3",
   "version": "3.11.6"
  }
 },
 "nbformat": 4,
 "nbformat_minor": 5
}
