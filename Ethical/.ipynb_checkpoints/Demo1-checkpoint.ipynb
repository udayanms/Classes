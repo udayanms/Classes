{
 "cells": [
  {
   "cell_type": "code",
   "execution_count": 1,
   "id": "1b3dc376-e003-4e47-85bc-cf9f2ac37d42",
   "metadata": {},
   "outputs": [
    {
     "name": "stdout",
     "output_type": "stream",
     "text": [
      "\u001b[33mWARNING: The directory '/home/jovyan/.cache/pip' or its parent directory is not owned or is not writable by the current user. The cache has been disabled. Check the permissions and owner of that directory. If executing pip with sudo, you should use sudo's -H flag.\u001b[0m\u001b[33m\n",
      "\u001b[0mRequirement already satisfied: pyminizip in /opt/conda/lib/python3.11/site-packages (0.2.6)\n",
      "\u001b[33mWARNING: Running pip as the 'root' user can result in broken permissions and conflicting behaviour with the system package manager. It is recommended to use a virtual environment instead: https://pip.pypa.io/warnings/venv\u001b[0m\u001b[33m\n",
      "\u001b[0m"
     ]
    }
   ],
   "source": [
    "!pip install pyminizip\n",
    "import itertools\n",
    "import string\n",
    "import pyminizip"
   ]
  },
  {
   "cell_type": "code",
   "execution_count": 8,
   "id": "a79505b8-d0db-4adb-9f85-b70a646120db",
   "metadata": {},
   "outputs": [],
   "source": [
    "import time\n",
    "\n",
    "def timeit(func):\n",
    "    def wrapper(*args, **kwargs):\n",
    "        start_time = time.time()\n",
    "        result = func(*args, **kwargs)\n",
    "        end_time = time.time()\n",
    "        print(f\"Function '{func.__name__}' executed in {end_time - start_time} seconds.\")\n",
    "        return result\n",
    "    return wrapper"
   ]
  },
  {
   "cell_type": "code",
   "execution_count": null,
   "id": "68565c4c-19db-46f7-8ad4-ed46ece8333d",
   "metadata": {},
   "outputs": [],
   "source": [
    "@timeit\n",
    "def try_passwords(zip_file_path, password, extract_to_folder):\n",
    "    try:\n",
    "        with zipfile.ZipFile(zip_file_path, 'r') as zip_ref:\n",
    "            zip_ref.extractall(path=extract_to_folder, pwd=bytes(password, 'utf-8'))\n",
    "            print(f\"Success! The password is: {password}\")\n",
    "            return True\n",
    "    except  (RuntimeError, zipfile.BadZipFile):\n",
    "        return False"
   ]
  },
  {
   "cell_type": "code",
   "execution_count": 10,
   "id": "295ab8b7-bba0-4e97-8b02-8f3777784a08",
   "metadata": {},
   "outputs": [
    {
     "name": "stdout",
     "output_type": "stream",
     "text": [
      "ZIP file '/tf/Ethical/example.zip' created successfully.\n"
     ]
    }
   ],
   "source": [
    "import os\n",
    "import pyminizip\n",
    "\n",
    "\n",
    "def create_password_protected_zip_from_folder(output_zip_file, password, folder_path, compression_level=5):\n",
    "    \"\"\"\n",
    "    Creates a password-protected ZIP file containing all files from a specified folder.\n",
    "\n",
    "    Args:\n",
    "    output_zip_file: The name of the output ZIP file.\n",
    "    password: Password for the ZIP file.\n",
    "    folder_path: Path of the folder containing files to be added to the ZIP file.\n",
    "    compression_level: ZIP compression level (1-9).\n",
    "    \"\"\"\n",
    "    input_files = []\n",
    "    for root, _, files in os.walk(folder_path):\n",
    "        for file in files:\n",
    "            file_path = os.path.join(root, file)\n",
    "            input_files.append(file_path)\n",
    "\n",
    "    if input_files:\n",
    "        pyminizip.compress_multiple(input_files, [], output_zip_file, password, compression_level)\n",
    "        print(f\"ZIP file '{output_zip_file}' created successfully.\")\n",
    "    else:\n",
    "        print(\"No files found in the specified folder.\")\n",
    "\n",
    "# Example usage\n"
   ]
  },
  {
   "cell_type": "code",
   "execution_count": 19,
   "id": "4e570c42-7321-437b-be99-05751ffd5f46",
   "metadata": {},
   "outputs": [],
   "source": [
    "import itertools\n",
    "import string\n",
    "import zipfile\n",
    "\n",
    "def try_passwords(zip_file_path, extract_to_folder, password_len):\n",
    "    \"\"\"\n",
    "    Tries to unzip a ZIP file using a brute-force approach to guess the password.\n",
    "\n",
    "    Args:\n",
    "    zip_file_path: Path to the ZIP file.\n",
    "    extract_to_folder: Folder where contents will be extracted.\n",
    "    \"\"\"\n",
    "    #chars = string.ascii_uppercase + string.ascii_lowercase + '@#'\n",
    "    chars =  string.ascii_lowercase \n",
    "    for guess in itertools.product(chars, repeat=password_len):\n",
    "        password = ''.join(guess)\n",
    "        try:\n",
    "            with zipfile.ZipFile(zip_file_path, 'r') as zip_ref:\n",
    "                zip_ref.extractall(path=extract_to_folder, pwd=bytes(password, 'utf-8'))\n",
    "                print(f\"Success! The password is: {password}\")\n",
    "                return\n",
    "        except Exception as e:\n",
    "            continue\n",
    "    print(\"Failed to find the password.\")\n",
    "\n",
    "\n"
   ]
  },
  {
   "cell_type": "code",
   "execution_count": 25,
   "id": "7bdd77ca-125d-4b6d-86f9-f5cd461df5f2",
   "metadata": {},
   "outputs": [
    {
     "name": "stdout",
     "output_type": "stream",
     "text": [
      "ZIP file '/tf/Ethical/example.zip' created successfully.\n",
      "Success! The password is: dem\n",
      "Success! The password is: dem\n"
     ]
    }
   ],
   "source": [
    "output_zip_file = '/tf/Ethical/example.zip'  # The name of the output ZIP file\n",
    "password = 'dem'  # Password for the ZIP file\n",
    "password_len = len(password)\n",
    "folder_path = '/tf/Ethical/'  # Path of the folder to zip\n",
    "\n",
    "create_password_protected_zip_from_folder(output_zip_file, password, folder_path)\n",
    "# Example usage\n",
    "zip_file_path = output_zip_file  # Replace with your ZIP file path\n",
    "extract_to_folder = folder_path +'/Extract'  # Replace with your extraction folder path\n",
    "\n",
    "try_passwords(zip_file_path, extract_to_folder, password_len)\n",
    "print(f\"Success! The password is: {password}\")"
   ]
  },
  {
   "cell_type": "code",
   "execution_count": null,
   "id": "61ea8b7c-1e9b-4eb4-ba38-d875d1a58eda",
   "metadata": {},
   "outputs": [],
   "source": []
  },
  {
   "cell_type": "code",
   "execution_count": null,
   "id": "8cd9264e-2c8f-4a21-8a6b-e98802950c29",
   "metadata": {},
   "outputs": [],
   "source": []
  },
  {
   "cell_type": "code",
   "execution_count": null,
   "id": "091a8f15-5795-4214-acc7-0530065b104f",
   "metadata": {},
   "outputs": [],
   "source": []
  }
 ],
 "metadata": {
  "kernelspec": {
   "display_name": "Python 3 (ipykernel)",
   "language": "python",
   "name": "python3"
  },
  "language_info": {
   "codemirror_mode": {
    "name": "ipython",
    "version": 3
   },
   "file_extension": ".py",
   "mimetype": "text/x-python",
   "name": "python",
   "nbconvert_exporter": "python",
   "pygments_lexer": "ipython3",
   "version": "3.11.6"
  }
 },
 "nbformat": 4,
 "nbformat_minor": 5
}
