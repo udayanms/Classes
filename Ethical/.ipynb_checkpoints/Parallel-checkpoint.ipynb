{
 "cells": [
  {
   "cell_type": "code",
   "execution_count": 1,
   "id": "4d444db3-b46b-4af4-a4fa-2627f3b43030",
   "metadata": {},
   "outputs": [
    {
     "name": "stdout",
     "output_type": "stream",
     "text": [
      "\u001b[33mWARNING: The directory '/home/jovyan/.cache/pip' or its parent directory is not owned or is not writable by the current user. The cache has been disabled. Check the permissions and owner of that directory. If executing pip with sudo, you should use sudo's -H flag.\u001b[0m\u001b[33m\n",
      "\u001b[0mRequirement already satisfied: pyminizip in /opt/conda/lib/python3.11/site-packages (0.2.6)\n",
      "\u001b[33mWARNING: Running pip as the 'root' user can result in broken permissions and conflicting behaviour with the system package manager. It is recommended to use a virtual environment instead: https://pip.pypa.io/warnings/venv\u001b[0m\u001b[33m\n",
      "\u001b[0m"
     ]
    }
   ],
   "source": [
    "!pip install pyminizip"
   ]
  },
  {
   "cell_type": "markdown",
   "id": "b2f31c51-a9ff-4d05-9fc6-fe699d05b9ca",
   "metadata": {},
   "source": [
    "#### In this example, timeit is a decorator that you can apply to any function. When you call my_function(), it will automatically print the execution time. You can use this @timeit decorator with any function to measure its execution time."
   ]
  },
  {
   "cell_type": "code",
   "execution_count": 2,
   "id": "071cb5b8-b2bd-4196-b3da-5cb551055e65",
   "metadata": {},
   "outputs": [],
   "source": [
    "import time\n",
    "def timeit(func):\n",
    "    def wrapper(*args, **kwargs):\n",
    "        start_time = time.time()\n",
    "        result = func(*args, **kwargs)\n",
    "        end_time = time.time()\n",
    "        print(f\"Function '{func.__name__}' executed in {end_time - start_time} seconds.\")\n",
    "        return result\n",
    "    return wrapper"
   ]
  },
  {
   "cell_type": "markdown",
   "id": "a8e1639b-e8a1-4446-be65-9a709c957830",
   "metadata": {},
   "source": [
    "#### Function to create a zip file file and password protect it."
   ]
  },
  {
   "cell_type": "code",
   "execution_count": 3,
   "id": "5a69cc8c-c32e-4c7d-8287-32b09a956216",
   "metadata": {},
   "outputs": [],
   "source": [
    "import os\n",
    "import pyminizip\n",
    "\n",
    "def create_password_protected_zip_from_folder(output_zip_file, password, folder_path, compression_level=5):\n",
    "    \"\"\"\n",
    "    Creates a password-protected ZIP file containing all files from a specified folder.\n",
    "\n",
    "    Args:\n",
    "    output_zip_file: The name of the output ZIP file.\n",
    "    password: Password for the ZIP file.\n",
    "    folder_path: Path of the folder containing files to be added to the ZIP file.\n",
    "    compression_level: ZIP compression level (1-9).\n",
    "    \"\"\"\n",
    "    input_files = []\n",
    "    for root, _, files in os.walk(folder_path):\n",
    "        for file in files:\n",
    "            file_path = os.path.join(root, file)\n",
    "            input_files.append(file_path)\n",
    "\n",
    "    if input_files:\n",
    "        pyminizip.compress_multiple(input_files, [], output_zip_file, password, compression_level)\n",
    "        print(f\"ZIP file '{output_zip_file}' created successfully.\")\n",
    "    else:\n",
    "        print(\"No files found in the specified folder.\")"
   ]
  },
  {
   "cell_type": "markdown",
   "id": "77e65584-a63f-4351-8e91-ff0cf2dd5d1a",
   "metadata": {},
   "source": [
    "#### This function \"attempt_password\" shall try to unzip a password protected zip file.\n"
   ]
  },
  {
   "cell_type": "code",
   "execution_count": 4,
   "id": "4c1dd96b-7e5d-4811-82b4-f89c4381a93b",
   "metadata": {},
   "outputs": [],
   "source": [
    "import itertools\n",
    "import string\n",
    "import zipfile\n",
    "import concurrent\n",
    "from concurrent.futures import ThreadPoolExecutor, as_completed\n",
    "\n",
    "def attempt_password(zip_file_path, password, extract_to_folder):\n",
    "    try:\n",
    "        with zipfile.ZipFile(zip_file_path, 'r') as zip_ref:\n",
    "            zip_ref.extractall(path=extract_to_folder, pwd=bytes(password, 'utf-8'))\n",
    "            return True\n",
    "    except RuntimeError:\n",
    "        # This exception is raised for incorrect password\n",
    "        return False\n",
    "    except zipfile.BadZipFile:\n",
    "        # This exception is raised for other zip file related errors\n",
    "        #print(f\"Zip file error with password: {password}\")\n",
    "        return False\n",
    "    except Exception as e:\n",
    "        # General exception to catch any other errors\n",
    "        #print(f\"Unexpected error with password '{password}': {e}\")\n",
    "        return False\n",
    "\n",
    "\"\"\"\n",
    "def attempt_password(zip_file_path, password, extract_to_folder):\n",
    "    try:\n",
    "        with zipfile.ZipFile(zip_file_path, 'r') as zip_ref:\n",
    "            zip_ref.extractall(path=extract_to_folder, pwd=bytes(password, 'utf-8'))\n",
    "            print(f\"Success! The password is: {password}\")\n",
    "            return True\n",
    "    except  (RuntimeError, zipfile.BadZipFile):\n",
    "        return False\n",
    "\"\"\"\n",
    "def generate_passwords(chars, length):\n",
    "    return (''.join(guess) for guess in itertools.product(chars, repeat=length))\n",
    "\n",
    "@timeit\n",
    "def brute_force_zip(zip_file_path, extract_to_folder,password_len,  max_workers=20):\n",
    "    #chars = string.ascii_uppercase + string.ascii_lowercase + '@#'\n",
    "    chars =  string.ascii_lowercase \n",
    "    password_length = password_len  # Adjust as needed\n",
    "\n",
    "    with ThreadPoolExecutor(max_workers=max_workers) as executor:\n",
    "        password_generator = generate_passwords(chars, password_length)\n",
    "        future_to_password = {executor.submit(attempt_password, zip_file_path, password, extract_to_folder): password for password in password_generator}\n",
    "        for future in concurrent.futures.as_completed(future_to_password):\n",
    "            password = future_to_password[future]\n",
    "            if future.result():\n",
    "                print(f\"Found password: {password}\")\n",
    "                return\n",
    "\n",
    "\n"
   ]
  },
  {
   "cell_type": "code",
   "execution_count": 8,
   "id": "7b38b2bb-96ab-4633-99cf-7cabbab76a2b",
   "metadata": {},
   "outputs": [
    {
     "name": "stdout",
     "output_type": "stream",
     "text": [
      "ZIP file 'example1.zip' created successfully.\n",
      "Found password: demo\n",
      "Function 'brute_force_zip' executed in 267.8743689060211 seconds.\n"
     ]
    }
   ],
   "source": [
    "output_zip_file = 'example1.zip'  # The name of the output ZIP file\n",
    "password = 'demo'  # Password for the ZIP file\n",
    "password_len = len(password)\n",
    "folder_path = 'Extract1'  # Path of the folder to zip\n",
    "\n",
    "create_password_protected_zip_from_folder(output_zip_file, password, folder_path)\n",
    "# Example usage\n",
    "zip_file_path = 'example1.zip'\n",
    "extract_to_folder = 'Extract1'\n",
    "\n",
    "brute_force_zip(zip_file_path, extract_to_folder, password_len)"
   ]
  },
  {
   "cell_type": "code",
   "execution_count": 6,
   "id": "d42f7c4d-4dc6-424d-9ea9-91e55262553a",
   "metadata": {},
   "outputs": [],
   "source": [
    "# note all possible password \n",
    "# try those first\n",
    "# try possible upper case lower case for thos old password\n"
   ]
  },
  {
   "cell_type": "code",
   "execution_count": 7,
   "id": "1c3a02a8-5fb6-4e8a-bdb4-e85b48a8c591",
   "metadata": {},
   "outputs": [
    {
     "ename": "NameError",
     "evalue": "name 'alpha' is not defined",
     "output_type": "error",
     "traceback": [
      "\u001b[0;31m---------------------------------------------------------------------------\u001b[0m",
      "\u001b[0;31mNameError\u001b[0m                                 Traceback (most recent call last)",
      "Cell \u001b[0;32mIn[7], line 1\u001b[0m\n\u001b[0;32m----> 1\u001b[0m \u001b[43malpha\u001b[49m \u001b[38;5;66;03m# @ $ % ^ special characters 10 \u001b[39;00m\n",
      "\u001b[0;31mNameError\u001b[0m: name 'alpha' is not defined"
     ]
    }
   ],
   "source": [
    "alpha # @ $ % ^ special characters 10 "
   ]
  },
  {
   "cell_type": "code",
   "execution_count": null,
   "id": "ff937057-e319-4200-9682-76ae90440911",
   "metadata": {},
   "outputs": [],
   "source": []
  }
 ],
 "metadata": {
  "kernelspec": {
   "display_name": "Python 3 (ipykernel)",
   "language": "python",
   "name": "python3"
  },
  "language_info": {
   "codemirror_mode": {
    "name": "ipython",
    "version": 3
   },
   "file_extension": ".py",
   "mimetype": "text/x-python",
   "name": "python",
   "nbconvert_exporter": "python",
   "pygments_lexer": "ipython3",
   "version": "3.11.6"
  }
 },
 "nbformat": 4,
 "nbformat_minor": 5
}
